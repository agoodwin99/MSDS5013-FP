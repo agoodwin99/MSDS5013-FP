{
 "cells": [
  {
   "cell_type": "markdown",
   "metadata": {},
   "source": [
    "# Expanding Services to New Non - Human Creatures on Boran and Radan\n",
    "## MSDS 5013 - Final Project\n",
    "#### Best Project Group  - Mohab : Nasarin : Andrew\n"
   ]
  },
  {
   "cell_type": "markdown",
   "metadata": {},
   "source": [
    "# Introduction\n",
    "\n",
    "We Best Project Group were hired as new data sceintest for the Planetary BestHealthCare Insurance Company Incorporated (PHBCICI). PHBCICI is interested in explandung their service to new non-human creatures on newly discovered planets Boran and Radan. We were given a small data set to perform initila expiraments on while we wait for the source data to be reviewed and verified. The data include the number of earth years of life for each alien creature, and several medical diagnostics taken 6-months prior to the alien’s death. We used SQL and Python for our analysis. "
   ]
  },
  {
   "cell_type": "markdown",
   "metadata": {},
   "source": [
    "# Python Libraries Used for Analysis"
   ]
  },
  {
   "cell_type": "code",
   "execution_count": 45,
   "metadata": {
    "_cell_guid": "b1076dfc-b9ad-4769-8c92-a6c4dae69d19",
    "_uuid": "8f2839f25d086af736a60e9eeb907d3b93b6e0e5"
   },
   "outputs": [
    {
     "ename": "ModuleNotFoundError",
     "evalue": "No module named 'mlxtend'",
     "output_type": "error",
     "traceback": [
      "\u001b[1;31m---------------------------------------------------------------------------\u001b[0m",
      "\u001b[1;31mModuleNotFoundError\u001b[0m                       Traceback (most recent call last)",
      "\u001b[1;32m<ipython-input-45-dbb97243bd62>\u001b[0m in \u001b[0;36m<module>\u001b[1;34m\u001b[0m\n\u001b[0;32m     13\u001b[0m \u001b[1;32mfrom\u001b[0m \u001b[0msklearn\u001b[0m\u001b[1;33m.\u001b[0m\u001b[0mmodel_selection\u001b[0m \u001b[1;32mimport\u001b[0m \u001b[0mcross_val_score\u001b[0m\u001b[1;33m,\u001b[0m \u001b[0mcross_val_predict\u001b[0m\u001b[1;33m\u001b[0m\u001b[1;33m\u001b[0m\u001b[0m\n\u001b[0;32m     14\u001b[0m \u001b[1;32mfrom\u001b[0m \u001b[0msklearn\u001b[0m \u001b[1;32mimport\u001b[0m \u001b[0mmetrics\u001b[0m\u001b[1;33m\u001b[0m\u001b[1;33m\u001b[0m\u001b[0m\n\u001b[1;32m---> 15\u001b[1;33m \u001b[1;32mfrom\u001b[0m \u001b[0mmlxtend\u001b[0m\u001b[1;33m.\u001b[0m\u001b[0mplotting\u001b[0m \u001b[1;32mimport\u001b[0m \u001b[0mplot_linear_regression\u001b[0m\u001b[1;33m\u001b[0m\u001b[1;33m\u001b[0m\u001b[0m\n\u001b[0m\u001b[0;32m     16\u001b[0m \u001b[1;32mimport\u001b[0m \u001b[0mos\u001b[0m\u001b[1;33m\u001b[0m\u001b[1;33m\u001b[0m\u001b[0m\n\u001b[0;32m     17\u001b[0m \u001b[1;32mfor\u001b[0m \u001b[0mdirname\u001b[0m\u001b[1;33m,\u001b[0m \u001b[0m_\u001b[0m\u001b[1;33m,\u001b[0m \u001b[0mfilenames\u001b[0m \u001b[1;32min\u001b[0m \u001b[0mos\u001b[0m\u001b[1;33m.\u001b[0m\u001b[0mwalk\u001b[0m\u001b[1;33m(\u001b[0m\u001b[1;34m'/kaggle/input'\u001b[0m\u001b[1;33m)\u001b[0m\u001b[1;33m:\u001b[0m\u001b[1;33m\u001b[0m\u001b[1;33m\u001b[0m\u001b[0m\n",
      "\u001b[1;31mModuleNotFoundError\u001b[0m: No module named 'mlxtend'"
     ]
    }
   ],
   "source": [
    "# This Python 3 environment comes with many helpful analytics libraries installed\n",
    "# It is defined by the kaggle/python Docker image: https://github.com/kaggle/docker-python\n",
    "# For example, here's several helpful packages to load\n",
    "\n",
    "import numpy as np # linear algebra\n",
    "import pandas as pd # data processing, CSV file I/O (e.g. pd.read_csv)\n",
    "import matplotlib.pyplot as plt\n",
    "import scipy.stats as st\n",
    "# Input data files are available in the read-only \"../input/\" directory\n",
    "# For example, running this (by clicking run or pressing Shift+Enter) will list all files under the input directory\n",
    "from sklearn.model_selection import train_test_split\n",
    "from sklearn.linear_model import LinearRegression\n",
    "from sklearn.model_selection import cross_val_score, cross_val_predict\n",
    "from sklearn import metrics\n",
    "from mlxtend.plotting import plot_linear_regression\n",
    "import os\n",
    "for dirname, _, filenames in os.walk('/kaggle/input'):\n",
    "    for filename in filenames:\n",
    "        print(os.path.join(dirname, filename))\n",
    "from PIL import Image\n",
    "\n",
    "# You can write up to 5GB to the current directory (/kaggle/working/) that gets preserved as output when you create a version using \"Save & Run All\" \n",
    "# You can also write temporary files to /kaggle/temp/, but they won't be saved outside of the current session"
   ]
  },
  {
   "cell_type": "markdown",
   "metadata": {},
   "source": [
    "# SQL Work - Extracting Data"
   ]
  },
  {
   "cell_type": "markdown",
   "metadata": {},
   "source": [
    "![title](img/SQLTable.png)"
   ]
  },
  {
   "cell_type": "markdown",
   "metadata": {},
   "source": [
    "# Exploratory Data Analysis"
   ]
  },
  {
   "cell_type": "code",
   "execution_count": 8,
   "metadata": {
    "_cell_guid": "79c7e3d0-c299-4dcb-8224-4455121ee9b0",
    "_uuid": "d629ff2d2480ee46fbb7e2d37f6b5fab8052498a"
   },
   "outputs": [],
   "source": [
    "df = pd.read_csv('C:/Users/nasar/Downloads/draft-master/draft-master/final_table.csv')"
   ]
  },
  {
   "cell_type": "code",
   "execution_count": 9,
   "metadata": {},
   "outputs": [
    {
     "data": {
      "text/html": [
       "<div>\n",
       "<style scoped>\n",
       "    .dataframe tbody tr th:only-of-type {\n",
       "        vertical-align: middle;\n",
       "    }\n",
       "\n",
       "    .dataframe tbody tr th {\n",
       "        vertical-align: top;\n",
       "    }\n",
       "\n",
       "    .dataframe thead th {\n",
       "        text-align: right;\n",
       "    }\n",
       "</style>\n",
       "<table border=\"1\" class=\"dataframe\">\n",
       "  <thead>\n",
       "    <tr style=\"text-align: right;\">\n",
       "      <th></th>\n",
       "      <th>patient_id</th>\n",
       "      <th>blood_pressure</th>\n",
       "      <th>exercise</th>\n",
       "      <th>weight</th>\n",
       "      <th>glucose</th>\n",
       "      <th>bmi</th>\n",
       "      <th>planet_id</th>\n",
       "      <th>age</th>\n",
       "    </tr>\n",
       "  </thead>\n",
       "  <tbody>\n",
       "    <tr>\n",
       "      <th>0</th>\n",
       "      <td>41989</td>\n",
       "      <td>191.853108</td>\n",
       "      <td>102.544295</td>\n",
       "      <td>141.588776</td>\n",
       "      <td>119.807890</td>\n",
       "      <td>0.988849</td>\n",
       "      <td>1</td>\n",
       "      <td>76.957462</td>\n",
       "    </tr>\n",
       "    <tr>\n",
       "      <th>1</th>\n",
       "      <td>52846</td>\n",
       "      <td>102.358126</td>\n",
       "      <td>67.553652</td>\n",
       "      <td>79.661518</td>\n",
       "      <td>76.770712</td>\n",
       "      <td>0.978181</td>\n",
       "      <td>2</td>\n",
       "      <td>80.076495</td>\n",
       "    </tr>\n",
       "    <tr>\n",
       "      <th>2</th>\n",
       "      <td>15997</td>\n",
       "      <td>105.261325</td>\n",
       "      <td>69.054878</td>\n",
       "      <td>83.569586</td>\n",
       "      <td>80.149531</td>\n",
       "      <td>1.032715</td>\n",
       "      <td>2</td>\n",
       "      <td>86.508208</td>\n",
       "    </tr>\n",
       "    <tr>\n",
       "      <th>3</th>\n",
       "      <td>8248</td>\n",
       "      <td>189.628666</td>\n",
       "      <td>90.167716</td>\n",
       "      <td>139.689556</td>\n",
       "      <td>118.206986</td>\n",
       "      <td>0.972132</td>\n",
       "      <td>1</td>\n",
       "      <td>74.242965</td>\n",
       "    </tr>\n",
       "    <tr>\n",
       "      <th>4</th>\n",
       "      <td>83944</td>\n",
       "      <td>199.378675</td>\n",
       "      <td>143.205239</td>\n",
       "      <td>148.036310</td>\n",
       "      <td>125.230959</td>\n",
       "      <td>1.045336</td>\n",
       "      <td>1</td>\n",
       "      <td>86.055427</td>\n",
       "    </tr>\n",
       "  </tbody>\n",
       "</table>\n",
       "</div>"
      ],
      "text/plain": [
       "   patient_id  blood_pressure    exercise      weight     glucose       bmi  \\\n",
       "0       41989      191.853108  102.544295  141.588776  119.807890  0.988849   \n",
       "1       52846      102.358126   67.553652   79.661518   76.770712  0.978181   \n",
       "2       15997      105.261325   69.054878   83.569586   80.149531  1.032715   \n",
       "3        8248      189.628666   90.167716  139.689556  118.206986  0.972132   \n",
       "4       83944      199.378675  143.205239  148.036310  125.230959  1.045336   \n",
       "\n",
       "   planet_id        age  \n",
       "0          1  76.957462  \n",
       "1          2  80.076495  \n",
       "2          2  86.508208  \n",
       "3          1  74.242965  \n",
       "4          1  86.055427  "
      ]
     },
     "execution_count": 9,
     "metadata": {},
     "output_type": "execute_result"
    }
   ],
   "source": [
    "df.head()"
   ]
  },
  {
   "cell_type": "code",
   "execution_count": 10,
   "metadata": {},
   "outputs": [
    {
     "data": {
      "text/html": [
       "<div>\n",
       "<style scoped>\n",
       "    .dataframe tbody tr th:only-of-type {\n",
       "        vertical-align: middle;\n",
       "    }\n",
       "\n",
       "    .dataframe tbody tr th {\n",
       "        vertical-align: top;\n",
       "    }\n",
       "\n",
       "    .dataframe thead th {\n",
       "        text-align: right;\n",
       "    }\n",
       "</style>\n",
       "<table border=\"1\" class=\"dataframe\">\n",
       "  <thead>\n",
       "    <tr style=\"text-align: right;\">\n",
       "      <th></th>\n",
       "      <th>patient_id</th>\n",
       "      <th>blood_pressure</th>\n",
       "      <th>exercise</th>\n",
       "      <th>weight</th>\n",
       "      <th>glucose</th>\n",
       "      <th>bmi</th>\n",
       "      <th>planet_id</th>\n",
       "      <th>age</th>\n",
       "    </tr>\n",
       "  </thead>\n",
       "  <tbody>\n",
       "    <tr>\n",
       "      <th>count</th>\n",
       "      <td>60.000000</td>\n",
       "      <td>60.000000</td>\n",
       "      <td>60.000000</td>\n",
       "      <td>60.000000</td>\n",
       "      <td>60.000000</td>\n",
       "      <td>60.000000</td>\n",
       "      <td>60.000000</td>\n",
       "      <td>60.000000</td>\n",
       "    </tr>\n",
       "    <tr>\n",
       "      <th>mean</th>\n",
       "      <td>51279.300000</td>\n",
       "      <td>148.557434</td>\n",
       "      <td>79.259067</td>\n",
       "      <td>112.199544</td>\n",
       "      <td>99.571505</td>\n",
       "      <td>1.000000</td>\n",
       "      <td>1.500000</td>\n",
       "      <td>80.318250</td>\n",
       "    </tr>\n",
       "    <tr>\n",
       "      <th>std</th>\n",
       "      <td>30687.131383</td>\n",
       "      <td>46.172740</td>\n",
       "      <td>56.579986</td>\n",
       "      <td>33.148025</td>\n",
       "      <td>23.002214</td>\n",
       "      <td>0.076767</td>\n",
       "      <td>0.504219</td>\n",
       "      <td>8.643190</td>\n",
       "    </tr>\n",
       "    <tr>\n",
       "      <th>min</th>\n",
       "      <td>5231.000000</td>\n",
       "      <td>94.041680</td>\n",
       "      <td>2.288449</td>\n",
       "      <td>63.736353</td>\n",
       "      <td>65.268810</td>\n",
       "      <td>0.819985</td>\n",
       "      <td>1.000000</td>\n",
       "      <td>59.481521</td>\n",
       "    </tr>\n",
       "    <tr>\n",
       "      <th>25%</th>\n",
       "      <td>21306.750000</td>\n",
       "      <td>103.964557</td>\n",
       "      <td>35.458756</td>\n",
       "      <td>82.640210</td>\n",
       "      <td>79.199299</td>\n",
       "      <td>0.948430</td>\n",
       "      <td>1.000000</td>\n",
       "      <td>74.785961</td>\n",
       "    </tr>\n",
       "    <tr>\n",
       "      <th>50%</th>\n",
       "      <td>48646.000000</td>\n",
       "      <td>139.775917</td>\n",
       "      <td>67.698476</td>\n",
       "      <td>105.163780</td>\n",
       "      <td>94.602997</td>\n",
       "      <td>1.007066</td>\n",
       "      <td>1.500000</td>\n",
       "      <td>80.394206</td>\n",
       "    </tr>\n",
       "    <tr>\n",
       "      <th>75%</th>\n",
       "      <td>84009.000000</td>\n",
       "      <td>195.068280</td>\n",
       "      <td>106.108790</td>\n",
       "      <td>145.366810</td>\n",
       "      <td>122.531662</td>\n",
       "      <td>1.057895</td>\n",
       "      <td>2.000000</td>\n",
       "      <td>85.774582</td>\n",
       "    </tr>\n",
       "    <tr>\n",
       "      <th>max</th>\n",
       "      <td>95788.000000</td>\n",
       "      <td>209.973069</td>\n",
       "      <td>228.903939</td>\n",
       "      <td>160.599282</td>\n",
       "      <td>133.964778</td>\n",
       "      <td>1.149808</td>\n",
       "      <td>2.000000</td>\n",
       "      <td>99.544450</td>\n",
       "    </tr>\n",
       "  </tbody>\n",
       "</table>\n",
       "</div>"
      ],
      "text/plain": [
       "         patient_id  blood_pressure    exercise      weight     glucose  \\\n",
       "count     60.000000       60.000000   60.000000   60.000000   60.000000   \n",
       "mean   51279.300000      148.557434   79.259067  112.199544   99.571505   \n",
       "std    30687.131383       46.172740   56.579986   33.148025   23.002214   \n",
       "min     5231.000000       94.041680    2.288449   63.736353   65.268810   \n",
       "25%    21306.750000      103.964557   35.458756   82.640210   79.199299   \n",
       "50%    48646.000000      139.775917   67.698476  105.163780   94.602997   \n",
       "75%    84009.000000      195.068280  106.108790  145.366810  122.531662   \n",
       "max    95788.000000      209.973069  228.903939  160.599282  133.964778   \n",
       "\n",
       "             bmi  planet_id        age  \n",
       "count  60.000000  60.000000  60.000000  \n",
       "mean    1.000000   1.500000  80.318250  \n",
       "std     0.076767   0.504219   8.643190  \n",
       "min     0.819985   1.000000  59.481521  \n",
       "25%     0.948430   1.000000  74.785961  \n",
       "50%     1.007066   1.500000  80.394206  \n",
       "75%     1.057895   2.000000  85.774582  \n",
       "max     1.149808   2.000000  99.544450  "
      ]
     },
     "execution_count": 10,
     "metadata": {},
     "output_type": "execute_result"
    }
   ],
   "source": [
    "df.describe()"
   ]
  },
  {
   "cell_type": "code",
   "execution_count": 11,
   "metadata": {},
   "outputs": [],
   "source": [
    "df.planet_id.replace(1, \n",
    "           \"boran\", \n",
    "           inplace=True)\n",
    "df.planet_id.replace(2, \n",
    "           \"radan\", \n",
    "           inplace=True)"
   ]
  },
  {
   "cell_type": "code",
   "execution_count": 9,
   "metadata": {},
   "outputs": [
    {
     "data": {
      "text/html": [
       "<div>\n",
       "<style scoped>\n",
       "    .dataframe tbody tr th:only-of-type {\n",
       "        vertical-align: middle;\n",
       "    }\n",
       "\n",
       "    .dataframe tbody tr th {\n",
       "        vertical-align: top;\n",
       "    }\n",
       "\n",
       "    .dataframe thead th {\n",
       "        text-align: right;\n",
       "    }\n",
       "</style>\n",
       "<table border=\"1\" class=\"dataframe\">\n",
       "  <thead>\n",
       "    <tr style=\"text-align: right;\">\n",
       "      <th></th>\n",
       "      <th>patient_id</th>\n",
       "      <th>blood_pressure</th>\n",
       "      <th>exercise</th>\n",
       "      <th>weight</th>\n",
       "      <th>glucose</th>\n",
       "      <th>bmi</th>\n",
       "      <th>planet_id</th>\n",
       "      <th>age</th>\n",
       "    </tr>\n",
       "  </thead>\n",
       "  <tbody>\n",
       "    <tr>\n",
       "      <th>0</th>\n",
       "      <td>41989</td>\n",
       "      <td>191.853108</td>\n",
       "      <td>102.544295</td>\n",
       "      <td>141.588776</td>\n",
       "      <td>119.807890</td>\n",
       "      <td>0.988849</td>\n",
       "      <td>boran</td>\n",
       "      <td>76.957462</td>\n",
       "    </tr>\n",
       "    <tr>\n",
       "      <th>1</th>\n",
       "      <td>52846</td>\n",
       "      <td>102.358126</td>\n",
       "      <td>67.553652</td>\n",
       "      <td>79.661518</td>\n",
       "      <td>76.770712</td>\n",
       "      <td>0.978181</td>\n",
       "      <td>radan</td>\n",
       "      <td>80.076495</td>\n",
       "    </tr>\n",
       "    <tr>\n",
       "      <th>2</th>\n",
       "      <td>15997</td>\n",
       "      <td>105.261325</td>\n",
       "      <td>69.054878</td>\n",
       "      <td>83.569586</td>\n",
       "      <td>80.149531</td>\n",
       "      <td>1.032715</td>\n",
       "      <td>radan</td>\n",
       "      <td>86.508208</td>\n",
       "    </tr>\n",
       "    <tr>\n",
       "      <th>3</th>\n",
       "      <td>8248</td>\n",
       "      <td>189.628666</td>\n",
       "      <td>90.167716</td>\n",
       "      <td>139.689556</td>\n",
       "      <td>118.206986</td>\n",
       "      <td>0.972132</td>\n",
       "      <td>boran</td>\n",
       "      <td>74.242965</td>\n",
       "    </tr>\n",
       "    <tr>\n",
       "      <th>4</th>\n",
       "      <td>83944</td>\n",
       "      <td>199.378675</td>\n",
       "      <td>143.205239</td>\n",
       "      <td>148.036310</td>\n",
       "      <td>125.230959</td>\n",
       "      <td>1.045336</td>\n",
       "      <td>boran</td>\n",
       "      <td>86.055427</td>\n",
       "    </tr>\n",
       "  </tbody>\n",
       "</table>\n",
       "</div>"
      ],
      "text/plain": [
       "   patient_id  blood_pressure    exercise      weight     glucose       bmi  \\\n",
       "0       41989      191.853108  102.544295  141.588776  119.807890  0.988849   \n",
       "1       52846      102.358126   67.553652   79.661518   76.770712  0.978181   \n",
       "2       15997      105.261325   69.054878   83.569586   80.149531  1.032715   \n",
       "3        8248      189.628666   90.167716  139.689556  118.206986  0.972132   \n",
       "4       83944      199.378675  143.205239  148.036310  125.230959  1.045336   \n",
       "\n",
       "  planet_id        age  \n",
       "0     boran  76.957462  \n",
       "1     radan  80.076495  \n",
       "2     radan  86.508208  \n",
       "3     boran  74.242965  \n",
       "4     boran  86.055427  "
      ]
     },
     "execution_count": 9,
     "metadata": {},
     "output_type": "execute_result"
    }
   ],
   "source": [
    "df.head()"
   ]
  },
  {
   "cell_type": "code",
   "execution_count": 12,
   "metadata": {},
   "outputs": [],
   "source": [
    "age_boran = df['age'][df['planet_id'] == 'boran']\n",
    "age_radan = df['age'][df['planet_id'] == 'radan']"
   ]
  },
  {
   "cell_type": "code",
   "execution_count": 17,
   "metadata": {},
   "outputs": [],
   "source": [
    "#age_boran.mean(), age_boran.median(), age_radan.mean(), age_radan.median()"
   ]
  },
  {
   "cell_type": "markdown",
   "metadata": {},
   "source": [
    "# Analysis\n",
    "# Generate plots for the histogramage distribution for each planet - Part 1\n",
    "##### What is the mean (average) life expectance of the creatures on each planet? - Part 2\n",
    " The Average life expectancy of the creatures on Boran is 76.4, and Randan is 84.2. \n",
    "##### What is the probability of a creature living past the mean life expectancy on each planet? - Part 3\n",
    " There is a 50% creatures on Boran will live past the mean life expectancy and 62% for Radan"
   ]
  },
  {
   "cell_type": "markdown",
   "metadata": {},
   "source": [
    "##### Creating the histogram plots - Part 1"
   ]
  },
  {
   "cell_type": "code",
   "execution_count": 21,
   "metadata": {},
   "outputs": [
    {
     "data": {
      "text/plain": [
       "<matplotlib.lines.Line2D at 0x24388867748>"
      ]
     },
     "execution_count": 21,
     "metadata": {},
     "output_type": "execute_result"
    },
    {
     "data": {
      "image/png": "[encoded data removed]",
      "text/plain": [
       "<Figure size 1080x504 with 1 Axes>"
      ]
     },
     "metadata": {
      "needs_background": "light"
     },
     "output_type": "display_data"
    }
   ],
   "source": [
    "import seaborn as sns\n",
    "plt.figure(figsize=(15,7))\n",
    "\n",
    "sns.distplot( age_boran , color=\"skyblue\", label=\"Planet Boran\", hist_kws=dict(alpha=1))\n",
    "sns.distplot( age_radan , color=\"red\", label=\"Planet Radan\")\n",
    "plt.legend()\n",
    "plt.axvline(age_boran.mean(), color = 'b')\n",
    "plt.axvline(age_radan.mean(), color = 'r')\n",
    "plt.axvline(age_boran.median(), color = 'b')\n",
    "plt.axvline(age_radan.median(), color = 'r')\n"
   ]
  },
  {
   "cell_type": "markdown",
   "metadata": {},
   "source": [
    "##### Calculating average and median - Part 2"
   ]
  },
  {
   "cell_type": "code",
   "execution_count": 22,
   "metadata": {},
   "outputs": [
    {
     "data": {
      "text/html": [
       "<div>\n",
       "<style scoped>\n",
       "    .dataframe tbody tr th:only-of-type {\n",
       "        vertical-align: middle;\n",
       "    }\n",
       "\n",
       "    .dataframe tbody tr th {\n",
       "        vertical-align: top;\n",
       "    }\n",
       "\n",
       "    .dataframe thead th {\n",
       "        text-align: right;\n",
       "    }\n",
       "</style>\n",
       "<table border=\"1\" class=\"dataframe\">\n",
       "  <thead>\n",
       "    <tr style=\"text-align: right;\">\n",
       "      <th></th>\n",
       "      <th>Planet</th>\n",
       "      <th>mean</th>\n",
       "      <th>median</th>\n",
       "    </tr>\n",
       "  </thead>\n",
       "  <tbody>\n",
       "    <tr>\n",
       "      <th>0</th>\n",
       "      <td>boran</td>\n",
       "      <td>76.419431</td>\n",
       "      <td>76.447460</td>\n",
       "    </tr>\n",
       "    <tr>\n",
       "      <th>1</th>\n",
       "      <td>radan</td>\n",
       "      <td>84.217069</td>\n",
       "      <td>82.166353</td>\n",
       "    </tr>\n",
       "  </tbody>\n",
       "</table>\n",
       "</div>"
      ],
      "text/plain": [
       "  Planet       mean     median\n",
       "0  boran  76.419431  76.447460\n",
       "1  radan  84.217069  82.166353"
      ]
     },
     "execution_count": 22,
     "metadata": {},
     "output_type": "execute_result"
    }
   ],
   "source": [
    "mean_median = pd.DataFrame({'mean':[age_boran.mean(), age_radan.mean()], 'median':[age_boran.median(), age_radan.median()]})\n",
    "mean_median.insert(0, \"Planet\",['boran', 'radan'], True)\n",
    "mean_median.set_index('Planet')\n",
    "mean_median"
   ]
  },
  {
   "cell_type": "markdown",
   "metadata": {},
   "source": [
    "##### Calculating life expectancy probability - Part 3"
   ]
  },
  {
   "cell_type": "code",
   "execution_count": 23,
   "metadata": {},
   "outputs": [
    {
     "name": "stdout",
     "output_type": "stream",
     "text": [
      "50.0 %\n",
      "62.0 %\n"
     ]
    },
    {
     "data": {
      "text/plain": [
       "((50.0, None), (62.0, None))"
      ]
     },
     "execution_count": 23,
     "metadata": {},
     "output_type": "execute_result"
    }
   ],
   "source": [
    "def proba(data):\n",
    "    num = data.median()\n",
    "    avg = data.mean()\n",
    "    std = data.std()\n",
    "    z_score = (num - avg) / std\n",
    "    probability = round((1 - st.norm.cdf(z_score))*100)\n",
    "    return probability, print(str(probability) + ' %')\n",
    "proba(age_boran), proba(age_radan)"
   ]
  },
  {
   "cell_type": "markdown",
   "metadata": {},
   "source": [
    "# Boxplot for blood pressure for each planet, describe these two plots.\n",
    "\n",
    "The blood pressure on Boran is significantly higher than Radan. Boran is positively skewed while Radan seems to have a relatively normal distribution. Both have some outliers on the upper and lower quartiles.  "
   ]
  },
  {
   "cell_type": "code",
   "execution_count": 24,
   "metadata": {},
   "outputs": [
    {
     "data": {
      "text/plain": [
       "Text(0.5, 1.0, 'Blood Pressure range spread')"
      ]
     },
     "execution_count": 24,
     "metadata": {},
     "output_type": "execute_result"
    },
    {
     "data": {
      "image/png": "[encoded data removed]",
      "text/plain": [
       "<Figure size 1080x576 with 1 Axes>"
      ]
     },
     "metadata": {
      "needs_background": "light"
     },
     "output_type": "display_data"
    }
   ],
   "source": [
    "plt.figure(figsize=(15,8))\n",
    "\n",
    "sns.boxplot(x=df.planet_id, y=df.blood_pressure, data=df)\n",
    "sns.stripplot(x=df.planet_id, y=df.blood_pressure, data=df)\n",
    "plt.ylabel(\"Planet\", size=14)\n",
    "plt.xlabel(\"Blood Pressure\", size=14)\n",
    "plt.title(\"Blood Pressure range spread\", size=18)\n"
   ]
  },
  {
   "cell_type": "markdown",
   "metadata": {},
   "source": [
    "# Assume that blood pressure is outcome variable, all others are independent variables. \n",
    "### Using scatter plot between blood pressure and the following variables, using planet_id as colors to indicate the planets:\n",
    "\n",
    " Age,\n",
    " Exercise,\n",
    " Weight,\n",
    " Glucose,\n",
    " BMI,\n",
    " \n",
    " ### From these plots\n",
    "\n",
    "#### What's your finding?\n",
    "        Blood Pressure has a positive correlation with weight, Glucose, BMI and Age. \n",
    "        However it has relatively no correlation with exericse. \n",
    "#### What conclusion you could make?\n",
    "        We could conclude that on planets Boran and Radan exercise has no correlation on BP levels.\n",
    "####  What will you expect to see the relation between weight and bmi?\n",
    "        I would expect them to positively correlated as well as they are both positively correlated with blood pressure.\n",
    "        Per our graph we are seeing a sharp positive correlation as expected."
   ]
  },
  {
   "cell_type": "code",
   "execution_count": 28,
   "metadata": {},
   "outputs": [
    {
     "data": {
      "text/plain": [
       "<matplotlib.axes._subplots.AxesSubplot at 0x243895b7308>"
      ]
     },
     "execution_count": 28,
     "metadata": {},
     "output_type": "execute_result"
    },
    {
     "data": {
      "image/png": "[encoded data removed]",
      "text/plain": [
       "<Figure size 1512x1080 with 6 Axes>"
      ]
     },
     "metadata": {
      "needs_background": "light"
     },
     "output_type": "display_data"
    }
   ],
   "source": [
    "plt.figure(figsize=(21,15))\n",
    "ax1 = plt.subplot(231)\n",
    "sns.scatterplot(data=df, x=\"exercise\", y=\"blood_pressure\", hue=\"planet_id\")\n",
    "ax2 = plt.subplot(232)\n",
    "sns.scatterplot(data=df, x=\"weight\", y=\"blood_pressure\", hue=\"planet_id\")\n",
    "ax3 = plt.subplot(233)\n",
    "sns.scatterplot(data=df, x=\"glucose\", y=\"blood_pressure\", hue=\"planet_id\")\n",
    "ax4 = plt.subplot(234)\n",
    "sns.scatterplot(data=df, x=\"bmi\", y=\"blood_pressure\", hue=\"planet_id\")\n",
    "ax5 = plt.subplot(236)\n",
    "sns.scatterplot(data=df, x=\"age\", y=\"blood_pressure\", hue=\"planet_id\")\n",
    "ax6 = plt.subplot(235)\n",
    "sns.scatterplot(data=df, x=\"weight\", y=\"bmi\", hue=\"planet_id\")\n"
   ]
  },
  {
   "cell_type": "markdown",
   "metadata": {},
   "source": [
    "# Conclusion\n",
    "As Best Group Ever our conclusion is life is relatively viable on Boran and Radan. \n",
    "Creatures can expect a relatively long life with the average age of 74 for Boran(B) and 84 for Radan(R) with with 50% of creatures living past the median age of 76 on B and 62% living past median age of 82 on R. \n",
    "\n",
    "\n",
    "Best Group Ever recommends creatures re-locating to B and R maintain a healthy lifestyle pre-migration as there seems to be a positive correlation between BMI, Weight, Age and Glucose on Blood Pressure on B and R. However, no correlation to Exercise and Blood Pressure. Given this, it will be difficult to control blood pressure with exercise. There was not enough data to conclude what was negatively correlated to to Blood Pressure. \n",
    "\n",
    "As a means to control Blood Pressure levels, Best Group Ever recommends PHBCICI does not build an exercise facility, rather it relocates the funds designated to the facility into drug research controlling blood pressure levels if they would like to extend life expectancy and quality of life as reserach shows normal blood pressure levels as an important health and life expectancy indicator. "
   ]
  },
  {
   "cell_type": "code",
   "execution_count": 52,
   "metadata": {},
   "outputs": [],
   "source": [
    "#df.head(1)"
   ]
  },
  {
   "cell_type": "code",
   "execution_count": 51,
   "metadata": {},
   "outputs": [],
   "source": [
    "#sns.pairplot(df.drop('patient_id', axis=1), hue=\"planet_id\")"
   ]
  },
  {
   "cell_type": "code",
   "execution_count": 29,
   "metadata": {},
   "outputs": [],
   "source": [
    "#X = df[['exercise', 'weight', 'glucose', 'bmi', 'age']]\n",
    "#y = df['blood_pressure']"
   ]
  },
  {
   "cell_type": "code",
   "execution_count": 30,
   "metadata": {},
   "outputs": [],
   "source": [
    "#X_train, X_test, y_train, y_test = train_test_split(X, y, test_size=0.20, random_state=42)"
   ]
  },
  {
   "cell_type": "code",
   "execution_count": 53,
   "metadata": {},
   "outputs": [],
   "source": [
    "#print (X_train.shape, y_train.shape)\n",
    "#print (X_test.shape, y_test.shape)"
   ]
  },
  {
   "cell_type": "code",
   "execution_count": 32,
   "metadata": {},
   "outputs": [
    {
     "data": {
      "text/plain": [
       "LinearRegression(copy_X=True, fit_intercept=True, n_jobs=None, normalize=False)"
      ]
     },
     "execution_count": 32,
     "metadata": {},
     "output_type": "execute_result"
    }
   ],
   "source": [
    "#linear_regressor = LinearRegression()\n",
    "#linear_regressor.fit(X_train, y_train)"
   ]
  },
  {
   "cell_type": "code",
   "execution_count": 54,
   "metadata": {},
   "outputs": [],
   "source": [
    "#lm = LinearRegression()"
   ]
  },
  {
   "cell_type": "code",
   "execution_count": 34,
   "metadata": {},
   "outputs": [
    {
     "name": "stdout",
     "output_type": "stream",
     "text": [
      "[0.99999203 0.99998463 0.99998307 0.99998809 0.99998149] 0.9999858599529565 3.7793611359129684e-06\n"
     ]
    }
   ],
   "source": [
    "#scores = cross_val_score(lm, X_train, y_train, cv = 5)   \n",
    "\n",
    "#print(scores, np.mean(scores), np.std(scores))"
   ]
  },
  {
   "cell_type": "code",
   "execution_count": 35,
   "metadata": {},
   "outputs": [],
   "source": [
    "#predictions = cross_val_predict(lm, X_test, y_test, cv = 5)"
   ]
  },
  {
   "cell_type": "code",
   "execution_count": 36,
   "metadata": {},
   "outputs": [],
   "source": [
    "#accuracy = metrics.r2_score(y_test, predictions)"
   ]
  },
  {
   "cell_type": "code",
   "execution_count": 50,
   "metadata": {},
   "outputs": [],
   "source": [
    "#lm.fit(X_train, y_train)\n",
    "#y_hat = lm.predict(X_test)      \n",
    "#lm.score(X_test, y_test)"
   ]
  },
  {
   "cell_type": "code",
   "execution_count": null,
   "metadata": {},
   "outputs": [],
   "source": []
  }
 ],
 "metadata": {
  "kernelspec": {
   "display_name": "Python 3",
   "language": "python",
   "name": "python3"
  },
  "language_info": {
   "codemirror_mode": {
    "name": "ipython",
    "version": 3
   },
   "file_extension": ".py",
   "mimetype": "text/x-python",
   "name": "python",
   "nbconvert_exporter": "python",
   "pygments_lexer": "ipython3",
   "version": "3.7.6"
  }
 },
 "nbformat": 4,
 "nbformat_minor": 4
}
